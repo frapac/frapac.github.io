{
 "cells": [
  {
   "cell_type": "markdown",
   "metadata": {},
   "source": [
    "# Optimizing water networks with Knitro\n",
    "\n",
    "This notebook explains how to solve effectively NLP and MINLP\n",
    "problem with the Knitro solver.\n",
    "\n",
    "The problem studied hereafter was originally designed by\n",
    "Pierre Carpentier, for educational purposes.\n",
    "The original code is available [here](http://perso.ensta-paristech.fr/~pcarpent/TP_Reseau/ENSMP/).\n",
    "The author credits him for the following tutorial."
   ]
  },
  {
   "cell_type": "markdown",
   "metadata": {},
   "source": [
    "Import data."
   ]
  },
  {
   "cell_type": "code",
   "execution_count": null,
   "metadata": {},
   "outputs": [],
   "source": [
    "include(\"data.jl\");"
   ]
  },
  {
   "cell_type": "markdown",
   "metadata": {},
   "source": [
    "Plotting utilities"
   ]
  },
  {
   "cell_type": "code",
   "execution_count": null,
   "metadata": {},
   "outputs": [],
   "source": [
    "using Pkg\n",
    "\n",
    "# Turned off by default.\n",
    "PLOT_GRAPH = false\n",
    "if haskey(Pkg.installed(), \"PyPlot\")\n",
    "    PLOT_GRAPH = true\n",
    "    include(\"utils.jl\");\n",
    "end"
   ]
  },
  {
   "cell_type": "markdown",
   "metadata": {},
   "source": [
    "# Description of the problem\n",
    "\n",
    "The tutorial studies the optimization of water flows in a water\n",
    "distribution network (at steady state). The optimizer aims at\n",
    "minimizing the network's energy while statisfying some linear constraints\n",
    "corresponding to Kirchhoff's first law.\n",
    "\n",
    "Let $G = (N, E)$ be an oriented graph. We note $n = |E|$ the number of\n",
    "arcs and $m = |N|$ the number of nodes in this graph.\n",
    "\n",
    "We suppose that the network has $r$ tanks storing some waters to fulfill\n",
    "the demands in $d$ nodes (distinct from the tanks).\n",
    "We split the set of nodes $N$ accordingly:\n",
    "$$\n",
    "N = N_r \\cup N_d.\n",
    "$$\n",
    "\n",
    "We suppose further that the graph is *connected*, implying\n",
    "$$\n",
    "n \\geq m - 1 .\n",
    "$$\n",
    "We note $A \\in R^{m \\times n}$ the incidence matrix of the graph.\n",
    "\n",
    "The graph considered here looks as follow."
   ]
  },
  {
   "cell_type": "code",
   "execution_count": null,
   "metadata": {},
   "outputs": [],
   "source": [
    "if PLOT_GRAPH\n",
    "    fig = figure()\n",
    "    plot_network()\n",
    "    display(fig)\n",
    "end"
   ]
  },
  {
   "cell_type": "markdown",
   "metadata": {},
   "source": [
    "Lets introduce physical variables to describe further the water network.\n",
    "- the vector of resulting flows at nodes, denoted $f = (f_d, f_r)$. $f_d$ is given for demands' nodes.\n",
    "- the vector of pressures at nodes, denoted $p = (p_d, p_r)$. Pressures $p_r$ are given for the reservoirs.\n",
    "- the vector of resistances in all arcs, denoted $r$ (parameters of the problem)\n",
    "- the vector of flows across arcs, denoted $q$.\n",
    "\n",
    "The decision variable is the vector of flows $q$.\n",
    "\n",
    "### Constraints\n",
    "\n",
    "The first Kirchhoff law states that:\n",
    "$$\n",
    "A q -f = 0,\n",
    "$$\n",
    "as we suppose that no accumulation occurs in the nodes.\n",
    "The second Kirchhoff law takes into account the losses in the pipes,\n",
    "which is given on each arc by a function $\\phi_{alpha}$ (corresponding\n",
    "to the Colebrooks law):\n",
    "$$\n",
    "\\phi_{\\alpha}(q_\\alpha) = r_\\alpha q_\\alpha | q_\\alpha |\n",
    "$$\n",
    "The second Kirchhoff law writes, in a vectorial manner,\n",
    "$$\n",
    "A^\\top p + r \\circ q \\circ | q | = 0\n",
    "$$\n",
    "\n",
    "### Objective\n",
    "On each arc $\\alpha$, we define the energy function $\\Phi_\\alpha$\n",
    "as\n",
    "$$\n",
    "\\Phi_\\alpha(q_\\alpha) = \\dfrac{1}{3} r_\\alpha q_\\alpha^2 | q_\\alpha |\n",
    "$$\n",
    "On the graph, the overall energy equates\n",
    "$$\n",
    "J(q, f_r) = \\dfrac{1}{3} q^\\top (r \\circ q \\circ | q |) + p_r^\\top f_r\n",
    "$$\n",
    "\n",
    "The global problem writes\n",
    "$$\n",
    "\\min_{q} \\dfrac{1}{3} q^\\top (r \\circ q \\circ | q |) + p_r^\\top f_r \\qquad\n",
    "s.t. \\quad Aq  - f = 0\n",
    "$$\n",
    "\n",
    "### Reformulation\n",
    "By applying some mathematical tricks, we are able to reformulate\n",
    "the problem in the following manner.\n",
    "\n",
    "By considering some properties of the overall graph, we split the vector\n",
    "of flows in two $q = (q_T, q_C)$, where $q_T$ depends linearly on $q_C$.\n",
    "Then, we are able to prove the existence of a matrix $B$ and a fixed\n",
    "vector $q_0$ such that the vector of flows on arcs writes\n",
    "$$\n",
    "q = q_0 + B \\; q_C\n",
    "$$\n",
    "By using this formulation, we can reduce the dimension of the search\n",
    "space by selecting as decision variable the subvector $q_C$ instead of $q$.\n",
    "\n",
    "Note that the problem becomes also constraint-free, as the vector $q$\n",
    "statisfying the previous equation sastifies also the first Kirchhoff law.\n",
    "\n",
    "We reformulate the optimization problem as\n",
    "$$\n",
    "\\min_{q_c} \\dfrac{1}{3} q^\\top (r \\circ q \\circ | q |) + p_r^\\top f_r \\qquad\n",
    "s.t. \\quad q = q_0 + B q_C\n",
    "$$"
   ]
  },
  {
   "cell_type": "markdown",
   "metadata": {},
   "source": [
    "---\n",
    "# Numerical resolution\n",
    "We start by importing JuMP and Knitro."
   ]
  },
  {
   "cell_type": "code",
   "execution_count": null,
   "metadata": {},
   "outputs": [],
   "source": [
    "using JuMP, KNITRO"
   ]
  },
  {
   "cell_type": "markdown",
   "metadata": {},
   "source": [
    "---\n",
    "## First case study: the non-linear problem\n",
    "\n",
    "Define Knitro Optimizer with JuMP."
   ]
  },
  {
   "cell_type": "code",
   "execution_count": null,
   "metadata": {},
   "outputs": [],
   "source": [
    "model = Model(with_optimizer(KNITRO.Optimizer, outlev=3))"
   ]
  },
  {
   "cell_type": "markdown",
   "metadata": {},
   "source": [
    "Write non-linear optimization problem first."
   ]
  },
  {
   "cell_type": "code",
   "execution_count": null,
   "metadata": {},
   "outputs": [],
   "source": [
    "# Parameters.\n",
    "α1 = Ar' * pr\n",
    "# Dimension of the problem.\n",
    "nx = n - md\n",
    "@variable(model, qc[1:nx])\n",
    "# Add dummy variable in the model...\n",
    "@variable(model, q[1:n])\n",
    "# ... as we restrict the problem inside a 9-dimensional manifold:\n",
    "@constraint(model, q .== q0 + B*qc)\n",
    "@NLobjective(model, Min,\n",
    "             sum(r[i] * abs(q[i]) * q[i]^2 / 3 + α1[i] * q[i] for i in 1:n))\n",
    "optimize!(model)"
   ]
  },
  {
   "cell_type": "markdown",
   "metadata": {},
   "source": [
    "Display results"
   ]
  },
  {
   "cell_type": "code",
   "execution_count": null,
   "metadata": {},
   "outputs": [],
   "source": [
    "if PLOT_GRAPH\n",
    "    optimal_flow = JuMP.value.(q)\n",
    "    fig = figure()\n",
    "    plot_network(flow=optimal_flow)\n",
    "    display(fig)\n",
    "end"
   ]
  },
  {
   "cell_type": "markdown",
   "metadata": {},
   "source": [
    "Observe that some arcs seem almost useless here..."
   ]
  },
  {
   "cell_type": "markdown",
   "metadata": {},
   "source": [
    "---\n",
    "## Extension to Mixed-integer non-linear programming"
   ]
  },
  {
   "cell_type": "markdown",
   "metadata": {},
   "source": [
    "We were able to quickly formule the NLP problem with JuMP, and Knitro\n",
    "finds a solution in few iterations.\n",
    "We now modify slightly the problem. Consider the $n$ arcs inside the graph.\n",
    "The questions are:\n",
    "- *how many arcs in $E$ can we remove before the problem becomes infeasible?*\n",
    "- *how much is the cost impacted by arc removals?*"
   ]
  },
  {
   "cell_type": "markdown",
   "metadata": {},
   "source": [
    "We define hereafter the MINLP version of the problem."
   ]
  },
  {
   "cell_type": "code",
   "execution_count": null,
   "metadata": {},
   "outputs": [],
   "source": [
    "# Add a maximum flows through the pipes\n",
    "const QMAX = 10.\n",
    "\n",
    "function load_mip_model!(model::JuMP.Model; nremovals=3)\n",
    "    # Reconsider the NLP problem introduced previously.\n",
    "    @variable(model, qc[1:nx])\n",
    "    @variable(model, q[1:n])\n",
    "    @constraint(model, q .== q0 + B*qc)\n",
    "\n",
    "    # Introduce switch: $z$ is set to 0 if the corresponding arc is removed\n",
    "    # from the graph.\n",
    "    @variable(model, z[1:n], Bin)\n",
    "\n",
    "    # Bounds the abs flows through the arcs by QMAX\n",
    "    # The constraints write:\n",
    "    # | q | <= q_{max} * z\n",
    "    # Note that z_a = 0 implies that q_a = 0.\n",
    "    @constraint(model,  q .<= QMAX * z)\n",
    "    @constraint(model, -q .<= QMAX * z)\n",
    "    # Ensure that we remove exactly nremovals arcs.\n",
    "    @constraint(model, sum(z) == n - nremovals)\n",
    "\n",
    "    # Same cost as previously.\n",
    "    @NLobjective(model, Min,\n",
    "                 sum(r[i] * abs(q[i]) * q[i]^2 / 3 + α1[i] * q[i] for i in 1:n))\n",
    "    return\n",
    "end"
   ]
  },
  {
   "cell_type": "markdown",
   "metadata": {},
   "source": [
    "**Optimization related remark:** Note that the constraint\n",
    "$$\n",
    "| q | \\leq q_{max} \\; z\n",
    "$$\n",
    "could be reformulated as a complementarity constraint (also supported by Knitro\n",
    "but not natively by JuMP)."
   ]
  },
  {
   "cell_type": "markdown",
   "metadata": {},
   "source": [
    "**Physics related remark:** We are a bit loosy with the physics of the\n",
    "problem if we remove the arcs in the previous manner. Imagine that for\n",
    "a given arc $a \\in E$, $z_a =0$ thus implying $q_a =0$. Then, if we\n",
    "note $i$ and $j$ the two adjacent nodes, the physics tells us that\n",
    "$$\n",
    "p_i = 0 \\, \\quad p_j = 0 ,\n",
    "$$\n",
    "which is not the case if we solve the previous optimization problem.\n",
    "However, the goal of this tutorial is purely pedagogical and as a\n",
    "consequence we allow us to play a bit with the physics."
   ]
  },
  {
   "cell_type": "markdown",
   "metadata": {},
   "source": [
    "### Default Knitro"
   ]
  },
  {
   "cell_type": "markdown",
   "metadata": {},
   "source": [
    "Solve with default Knitro."
   ]
  },
  {
   "cell_type": "code",
   "execution_count": null,
   "metadata": {},
   "outputs": [],
   "source": [
    "# Build non-linear solver.\n",
    "model = Model(with_optimizer(KNITRO.Optimizer, outlev=3))\n",
    "load_mip_model!(model)\n",
    "@time JuMP.optimize!(model)"
   ]
  },
  {
   "cell_type": "markdown",
   "metadata": {},
   "source": [
    "We plot the solution by displaying in red the arcs removed from the graph."
   ]
  },
  {
   "cell_type": "code",
   "execution_count": null,
   "metadata": {},
   "outputs": [],
   "source": [
    "# Plot!\n",
    "if PLOT_GRAPH\n",
    "    optimal_flow = JuMP.value.(model[:q])\n",
    "    fig = figure()\n",
    "    plot_network(flow=optimal_flow)\n",
    "    display(fig)\n",
    "end"
   ]
  },
  {
   "cell_type": "markdown",
   "metadata": {},
   "source": [
    "In the resolving, Knitro uses the Branch & Bound algorithm to find\n",
    "the optimal solution corresponding to the (convex) MINLP problem.\n",
    "We refer to the [documentation](https://www.artelys.com/docs/knitro/2_userGuide/minlp.html)\n",
    "for further details.\n",
    "The approach used here is different than in BONMIN (outer approximation)."
   ]
  },
  {
   "cell_type": "markdown",
   "metadata": {},
   "source": [
    "Observe that Knitro with default options computes 165 nodes before\n",
    "finding the solution.\n",
    "Is it possible to find a better tuning for Knitro?"
   ]
  },
  {
   "cell_type": "markdown",
   "metadata": {},
   "source": [
    "### MIP-Tuner"
   ]
  },
  {
   "cell_type": "markdown",
   "metadata": {},
   "source": [
    "Since Knitro 12.0, a MINLP tuner was added to compute the optimal\n",
    "parameterization to solve a given MINLP problem with Knitro. The MINLP\n",
    "tuner uses an exhaustive search to find the optimal setting.\n",
    "\n",
    "By default, the tuner tests 36 combinations."
   ]
  },
  {
   "cell_type": "code",
   "execution_count": null,
   "metadata": {},
   "outputs": [],
   "source": [
    "model = Model(with_optimizer(KNITRO.Optimizer, outlev=3, tuner=1))\n",
    "load_mip_model!(model)\n",
    "@time JuMP.optimize!(model)"
   ]
  },
  {
   "cell_type": "markdown",
   "metadata": {},
   "source": [
    "Setting `mip_branchrule=2` and `mip_selectrule=3` seems to give\n",
    "better results, according to the tuner.\n",
    "Note that setting `outlev` to 0 switch off Knitro's output."
   ]
  },
  {
   "cell_type": "code",
   "execution_count": null,
   "metadata": {},
   "outputs": [],
   "source": [
    "mip_solver = with_optimizer(KNITRO.Optimizer, mip_knapsack=0, mip_branchrule=2,\n",
    "                            mip_selectrule=3, outlev=0)\n",
    "model = Model(mip_solver)\n",
    "load_mip_model!(model)\n",
    "@time JuMP.optimize!(model)"
   ]
  },
  {
   "cell_type": "markdown",
   "metadata": {},
   "source": [
    "### Quantify impact of arcs' removals"
   ]
  },
  {
   "cell_type": "markdown",
   "metadata": {},
   "source": [
    "The fewer arcs, the harder the problem.\n",
    "If `nremovals >= 10`, Knitro takes too long to solve the problem.\n",
    "However, the problem remains feasible till n_removals = 13.\n",
    "Compute for instance the solution of the following problem:"
   ]
  },
  {
   "cell_type": "code",
   "execution_count": null,
   "metadata": {},
   "outputs": [],
   "source": [
    "feas_model = Model(with_optimizer(KNITRO.Optimizer))\n",
    "@variable(feas_model, qc[1:nx])\n",
    "@variable(feas_model, q[1:n])\n",
    "@constraint(feas_model, q .== q0 + B*qc)\n",
    "@variable(feas_model, z[1:n], Bin)\n",
    "@constraint(feas_model,  q .<= QMAX * z)\n",
    "@constraint(feas_model, -q .<= QMAX * z)\n",
    "@objective(feas_model, Min, sum(z))"
   ]
  },
  {
   "cell_type": "markdown",
   "metadata": {},
   "source": [
    "We know study the evolution of the objective cost w.r.t. the\n",
    "number of removals."
   ]
  },
  {
   "cell_type": "code",
   "execution_count": null,
   "metadata": {},
   "outputs": [],
   "source": [
    "max_removals = 9\n",
    "\n",
    "# Save results in some arrays.\n",
    "cost_values = Float64[]\n",
    "\n",
    "for nremove in 1:max_removals\n",
    "    println(\"Remove \", nremove, \" arcs from graph.\")\n",
    "    model = Model(mip_solver)\n",
    "    load_mip_model!(model, nremovals=nremove)\n",
    "    @time JuMP.optimize!(model)\n",
    "\n",
    "    push!(cost_values, JuMP.objective_value(model))\n",
    "\n",
    "    # Plot!\n",
    "    if PLOT_GRAPH\n",
    "        optimal_flow = JuMP.value.(model[:q])\n",
    "        fig = figure()\n",
    "        plot_network(flow=optimal_flow)\n",
    "        title(\"Optimal solution with $nremove removals\")\n",
    "        display(fig)\n",
    "    end\n",
    "end"
   ]
  },
  {
   "cell_type": "markdown",
   "metadata": {},
   "source": [
    "Plot evolution of costs w.r.t. number of removals."
   ]
  },
  {
   "cell_type": "code",
   "execution_count": null,
   "metadata": {},
   "outputs": [],
   "source": [
    "if PLOT_GRAPH\n",
    "    fig = figure()\n",
    "    plot(1:max_removals, cost_values, lw=3, c=\"k\")\n",
    "    xlabel(\"#removals\")\n",
    "    ylabel(\"Objective value\")\n",
    "    display(fig)\n",
    "end"
   ]
  },
  {
   "cell_type": "markdown",
   "metadata": {},
   "source": [
    "We observe that removing up to 6 arcs does not impact significantly\n",
    "the cost."
   ]
  },
  {
   "cell_type": "code",
   "execution_count": null,
   "metadata": {},
   "outputs": [],
   "source": []
  }
 ],
 "metadata": {
  "kernelspec": {
   "display_name": "Julia 1.1.0",
   "language": "julia",
   "name": "julia-1.1"
  },
  "language_info": {
   "file_extension": ".jl",
   "mimetype": "application/julia",
   "name": "julia",
   "version": "1.1.0"
  }
 },
 "nbformat": 4,
 "nbformat_minor": 2
}
